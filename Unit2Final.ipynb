{
 "cells": [
  {
   "cell_type": "code",
   "execution_count": 1,
   "id": "78e7b66a",
   "metadata": {},
   "outputs": [],
   "source": [
    "import pandas as pd"
   ]
  },
  {
   "cell_type": "code",
   "execution_count": 6,
   "id": "5d26d021",
   "metadata": {},
   "outputs": [
    {
     "name": "stdout",
     "output_type": "stream",
     "text": [
      "      winner  white_rating  black_rating  \\\n",
      "0      White          1500          1191   \n",
      "1      Black          1322          1261   \n",
      "2      White          1496          1500   \n",
      "3      White          1439          1454   \n",
      "4      White          1523          1469   \n",
      "...      ...           ...           ...   \n",
      "20053  White          1691          1220   \n",
      "20054  Black          1233          1196   \n",
      "20055  White          1219          1286   \n",
      "20056  White          1360          1227   \n",
      "20057  Black          1235          1339   \n",
      "\n",
      "                                                   moves  \n",
      "0      d4 d5 c4 c6 cxd5 e6 dxe6 fxe6 Nf3 Bb4+ Nc3 Ba5...  \n",
      "1      d4 Nc6 e4 e5 f4 f6 dxe5 fxe5 fxe5 Nxe5 Qd4 Nc6...  \n",
      "2      e4 e5 d3 d6 Be3 c6 Be2 b5 Nd2 a5 a4 c5 axb5 Nc...  \n",
      "3      d4 d5 Nf3 Bf5 Nc3 Nf6 Bf4 Ng4 e3 Nc6 Be2 Qd7 O...  \n",
      "4      e4 e5 Nf3 d6 d4 Nc6 d5 Nb4 a3 Na6 Nc3 Be7 b4 N...  \n",
      "...                                                  ...  \n",
      "20053  d4 f5 e3 e6 Nf3 Nf6 Nc3 b6 Be2 Bb7 O-O Be7 Ne5...  \n",
      "20054  d4 d6 Bf4 e5 Bg3 Nf6 e3 exd4 exd4 d5 c3 Bd6 Bd...  \n",
      "20055  d4 d5 Bf4 Nc6 e3 Nf6 c3 e6 Nf3 Be7 Bd3 O-O Nbd...  \n",
      "20056  e4 d6 d4 Nf6 e5 dxe5 dxe5 Qxd1+ Kxd1 Nd5 c4 Nb...  \n",
      "20057  d4 d5 Bf4 Na6 e3 e6 c3 Nf6 Nf3 Bd7 Nbd2 b5 Bd3...  \n",
      "\n",
      "[20058 rows x 4 columns]\n"
     ]
    }
   ],
   "source": [
    "df = pd.read_csv(r\"chess_games.csv\")\n",
    "df.drop([\"game_id\", \"turns\", \"victory_status\",\"time_increment\",\"white_id\", \"black_id\", \"opening_moves\", \"opening_code\",\"opening_shortname\",\"opening_fullname\",\"opening_variation\",\"opening_response\", \"rated\"], axis = 1, inplace = True)\n",
    "df.dropna()\n",
    "print(df)\n"
   ]
  },
  {
   "cell_type": "code",
   "execution_count": 20,
   "id": "bc5e69f4",
   "metadata": {},
   "outputs": [],
   "source": [
    "def getratingWinner():\n",
    "    white = df['white_rating']\n",
    "    black = df['black_rating']\n",
    "    rating = []\n",
    "    for i in range(0,len(white)):\n",
    "        if white[i] > black[i]:\n",
    "            rating.append(\"White\")\n",
    "        elif black[i] > white[i]:\n",
    "            rating.append(\"Black\")\n",
    "        else:\n",
    "            rating.append(\"Equal\")\n",
    "            \n",
    "    return rating\n",
    "    "
   ]
  },
  {
   "cell_type": "code",
   "execution_count": 27,
   "id": "0d32aa4b",
   "metadata": {},
   "outputs": [],
   "source": [
    "result = getratingWinner()"
   ]
  },
  {
   "cell_type": "code",
   "execution_count": 28,
   "id": "246df3c7",
   "metadata": {},
   "outputs": [],
   "source": [
    "def actualWinner():\n",
    "    winner = df['winner']\n",
    "    yes = 0\n",
    "    no = 0\n",
    "    equals = 0\n",
    "    for i in range(0,len(winner)):\n",
    "        if result[i]==winner[i]:\n",
    "            yes+=1\n",
    "        if result[i]!=winner[i]:\n",
    "            no+=1\n",
    "        if result[i]=='Equal':\n",
    "            equals+=1\n",
    "            \n",
    "    return yes,no,equals"
   ]
  },
  {
   "cell_type": "code",
   "execution_count": 30,
   "id": "00c797d9",
   "metadata": {},
   "outputs": [
    {
     "data": {
      "text/plain": [
       "(12352, 7706, 203)"
      ]
     },
     "execution_count": 30,
     "metadata": {},
     "output_type": "execute_result"
    }
   ],
   "source": [
    "results = actualWinner()\n",
    "results"
   ]
  },
  {
   "cell_type": "code",
   "execution_count": 33,
   "id": "15f95816",
   "metadata": {},
   "outputs": [
    {
     "name": "stdout",
     "output_type": "stream",
     "text": [
      "Percent of Higher Rated being winner =  61%\n",
      "Percent of Lower Rated being winner = 38%\n",
      "Percent of Equal Ratings =  1%\n"
     ]
    }
   ],
   "source": [
    "total= results[0]+results[1]+results[2]\n",
    "print(\"Percent of Higher Rated being winner =  \" + str(round((results[0]/total)*100)) + \"%\")\n",
    "print(\"Percent of Lower Rated being winner = \" + str(round((results[1]/total)*100)) + \"%\")\n",
    "print(\"Percent of Equal Ratings =  \" + str(round((results[2]/total)*100)) + \"%\")\n"
   ]
  },
  {
   "cell_type": "code",
   "execution_count": 34,
   "id": "3a5d3cff",
   "metadata": {},
   "outputs": [
    {
     "data": {
      "text/html": [
       "<div>\n",
       "<style scoped>\n",
       "    .dataframe tbody tr th:only-of-type {\n",
       "        vertical-align: middle;\n",
       "    }\n",
       "\n",
       "    .dataframe tbody tr th {\n",
       "        vertical-align: top;\n",
       "    }\n",
       "\n",
       "    .dataframe thead th {\n",
       "        text-align: right;\n",
       "    }\n",
       "</style>\n",
       "<table border=\"1\" class=\"dataframe\">\n",
       "  <thead>\n",
       "    <tr style=\"text-align: right;\">\n",
       "      <th></th>\n",
       "      <th>Unnamed: 0</th>\n",
       "      <th>PGN</th>\n",
       "      <th>Mode</th>\n",
       "      <th>Result</th>\n",
       "      <th>Average Rating</th>\n",
       "      <th>Rating Difference</th>\n",
       "      <th>Termination Type</th>\n",
       "    </tr>\n",
       "  </thead>\n",
       "  <tbody>\n",
       "    <tr>\n",
       "      <th>0</th>\n",
       "      <td>0</td>\n",
       "      <td>1. e4 g6 2. d4 Bg7 3. c3 d6 4. Qf3 Nf6 5. h3 O...</td>\n",
       "      <td>Classical</td>\n",
       "      <td>Black Wins</td>\n",
       "      <td>1538</td>\n",
       "      <td>-262</td>\n",
       "      <td>Time forfeit</td>\n",
       "    </tr>\n",
       "    <tr>\n",
       "      <th>1</th>\n",
       "      <td>1</td>\n",
       "      <td>1. d4 Nf6 2. c4 g6 3. a3 Bg7 4. Nf3 O-O 5. Nc3...</td>\n",
       "      <td>Blitz</td>\n",
       "      <td>Black Wins</td>\n",
       "      <td>1492</td>\n",
       "      <td>-220</td>\n",
       "      <td>Time forfeit</td>\n",
       "    </tr>\n",
       "    <tr>\n",
       "      <th>2</th>\n",
       "      <td>2</td>\n",
       "      <td>1. e4 c5 2. Qf3 e5 3. Bc4 Nf6 4. Nh3 h6 5. g4 ...</td>\n",
       "      <td>Blitz</td>\n",
       "      <td>White Wins</td>\n",
       "      <td>1413</td>\n",
       "      <td>213</td>\n",
       "      <td>Normal</td>\n",
       "    </tr>\n",
       "    <tr>\n",
       "      <th>3</th>\n",
       "      <td>3</td>\n",
       "      <td>1. e4 e5 2. Nf3 d6 3. Nc3 f5 4. exf5 Bxf5 5. d...</td>\n",
       "      <td>Blitz</td>\n",
       "      <td>Black Wins</td>\n",
       "      <td>1444</td>\n",
       "      <td>-358</td>\n",
       "      <td>Normal</td>\n",
       "    </tr>\n",
       "    <tr>\n",
       "      <th>4</th>\n",
       "      <td>4</td>\n",
       "      <td>1. e4 e6 2. d4 d5 3. Nc3 Nf6 4. e5 Ne4 5. Nce2...</td>\n",
       "      <td>Bullet</td>\n",
       "      <td>White Wins</td>\n",
       "      <td>1931</td>\n",
       "      <td>117</td>\n",
       "      <td>Normal</td>\n",
       "    </tr>\n",
       "  </tbody>\n",
       "</table>\n",
       "</div>"
      ],
      "text/plain": [
       "   Unnamed: 0                                                PGN       Mode  \\\n",
       "0           0  1. e4 g6 2. d4 Bg7 3. c3 d6 4. Qf3 Nf6 5. h3 O...  Classical   \n",
       "1           1  1. d4 Nf6 2. c4 g6 3. a3 Bg7 4. Nf3 O-O 5. Nc3...      Blitz   \n",
       "2           2  1. e4 c5 2. Qf3 e5 3. Bc4 Nf6 4. Nh3 h6 5. g4 ...      Blitz   \n",
       "3           3  1. e4 e5 2. Nf3 d6 3. Nc3 f5 4. exf5 Bxf5 5. d...      Blitz   \n",
       "4           4  1. e4 e6 2. d4 d5 3. Nc3 Nf6 4. e5 Ne4 5. Nce2...     Bullet   \n",
       "\n",
       "       Result  Average Rating  Rating Difference Termination Type  \n",
       "0  Black Wins            1538               -262     Time forfeit  \n",
       "1  Black Wins            1492               -220     Time forfeit  \n",
       "2  White Wins            1413                213           Normal  \n",
       "3  Black Wins            1444               -358           Normal  \n",
       "4  White Wins            1931                117           Normal  "
      ]
     },
     "execution_count": 34,
     "metadata": {},
     "output_type": "execute_result"
    }
   ],
   "source": [
    "df1 = pd.read_csv(r\"Chess2.csv\")\n",
    "df1.head()"
   ]
  },
  {
   "cell_type": "code",
   "execution_count": 36,
   "id": "b4ec5ffd",
   "metadata": {},
   "outputs": [
    {
     "name": "stdout",
     "output_type": "stream",
     "text": [
      "d\n",
      "4\n",
      " \n",
      "d\n",
      "5\n",
      " \n",
      "c\n",
      "4\n",
      " \n",
      "c\n",
      "6\n",
      " \n",
      "c\n",
      "x\n",
      "d\n",
      "5\n",
      " \n",
      "e\n",
      "6\n",
      " \n",
      "d\n",
      "x\n",
      "e\n",
      "6\n",
      " \n",
      "f\n",
      "x\n",
      "e\n",
      "6\n",
      " \n",
      "N\n",
      "f\n",
      "3\n",
      " \n",
      "B\n",
      "b\n",
      "4\n",
      "+\n",
      " \n",
      "N\n",
      "c\n",
      "3\n",
      " \n",
      "B\n",
      "a\n",
      "5\n",
      " \n",
      "B\n",
      "f\n",
      "4\n"
     ]
    }
   ],
   "source": [
    "for i in df['moves'][0]:\n",
    "    print(i)"
   ]
  },
  {
   "cell_type": "code",
   "execution_count": null,
   "id": "1de87124",
   "metadata": {},
   "outputs": [],
   "source": []
  }
 ],
 "metadata": {
  "kernelspec": {
   "display_name": "Python 3 (ipykernel)",
   "language": "python",
   "name": "python3"
  },
  "language_info": {
   "codemirror_mode": {
    "name": "ipython",
    "version": 3
   },
   "file_extension": ".py",
   "mimetype": "text/x-python",
   "name": "python",
   "nbconvert_exporter": "python",
   "pygments_lexer": "ipython3",
   "version": "3.9.12"
  }
 },
 "nbformat": 4,
 "nbformat_minor": 5
}
