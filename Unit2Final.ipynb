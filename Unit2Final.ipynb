{
 "cells": [
  {
   "cell_type": "code",
   "execution_count": 74,
   "id": "78e7b66a",
   "metadata": {},
   "outputs": [],
   "source": [
    "import pandas as pd\n",
    "from collections import Counter\n",
    "import seaborn as sb"
   ]
  },
  {
   "cell_type": "code",
   "execution_count": 75,
   "id": "5d26d021",
   "metadata": {},
   "outputs": [
    {
     "name": "stdout",
     "output_type": "stream",
     "text": [
      "      winner  white_rating  black_rating  \\\n",
      "0      White          1500          1191   \n",
      "1      Black          1322          1261   \n",
      "2      White          1496          1500   \n",
      "3      White          1439          1454   \n",
      "4      White          1523          1469   \n",
      "...      ...           ...           ...   \n",
      "20053  White          1691          1220   \n",
      "20054  Black          1233          1196   \n",
      "20055  White          1219          1286   \n",
      "20056  White          1360          1227   \n",
      "20057  Black          1235          1339   \n",
      "\n",
      "                                                   moves  \n",
      "0      d4 d5 c4 c6 cxd5 e6 dxe6 fxe6 Nf3 Bb4+ Nc3 Ba5...  \n",
      "1      d4 Nc6 e4 e5 f4 f6 dxe5 fxe5 fxe5 Nxe5 Qd4 Nc6...  \n",
      "2      e4 e5 d3 d6 Be3 c6 Be2 b5 Nd2 a5 a4 c5 axb5 Nc...  \n",
      "3      d4 d5 Nf3 Bf5 Nc3 Nf6 Bf4 Ng4 e3 Nc6 Be2 Qd7 O...  \n",
      "4      e4 e5 Nf3 d6 d4 Nc6 d5 Nb4 a3 Na6 Nc3 Be7 b4 N...  \n",
      "...                                                  ...  \n",
      "20053  d4 f5 e3 e6 Nf3 Nf6 Nc3 b6 Be2 Bb7 O-O Be7 Ne5...  \n",
      "20054  d4 d6 Bf4 e5 Bg3 Nf6 e3 exd4 exd4 d5 c3 Bd6 Bd...  \n",
      "20055  d4 d5 Bf4 Nc6 e3 Nf6 c3 e6 Nf3 Be7 Bd3 O-O Nbd...  \n",
      "20056  e4 d6 d4 Nf6 e5 dxe5 dxe5 Qxd1+ Kxd1 Nd5 c4 Nb...  \n",
      "20057  d4 d5 Bf4 Na6 e3 e6 c3 Nf6 Nf3 Bd7 Nbd2 b5 Bd3...  \n",
      "\n",
      "[20058 rows x 4 columns]\n"
     ]
    }
   ],
   "source": [
    "df = pd.read_csv(r\"chess_games.csv\")\n",
    "df.drop([\"game_id\", \"turns\", \"victory_status\",\"time_increment\",\"white_id\", \"black_id\", \"opening_moves\", \"opening_code\",\"opening_shortname\",\"opening_fullname\",\"opening_variation\",\"opening_response\", \"rated\"], axis = 1, inplace = True)\n",
    "df.dropna()\n",
    "print(df)\n"
   ]
  },
  {
   "cell_type": "code",
   "execution_count": 76,
   "id": "bc5e69f4",
   "metadata": {},
   "outputs": [],
   "source": [
    "def getratingWinner():\n",
    "    white = df['white_rating']\n",
    "    black = df['black_rating']\n",
    "    rating = []\n",
    "    for i in range(0,len(white)):\n",
    "        if white[i] > black[i]:\n",
    "            rating.append(\"White\")\n",
    "        elif black[i] > white[i]:\n",
    "            rating.append(\"Black\")\n",
    "        else:\n",
    "            rating.append(\"Equal\")\n",
    "            \n",
    "    return rating\n",
    "    "
   ]
  },
  {
   "cell_type": "code",
   "execution_count": 77,
   "id": "0d32aa4b",
   "metadata": {},
   "outputs": [],
   "source": [
    "result = getratingWinner()"
   ]
  },
  {
   "cell_type": "code",
   "execution_count": 78,
   "id": "246df3c7",
   "metadata": {},
   "outputs": [],
   "source": [
    "def actualWinner():\n",
    "    winner = df['winner']\n",
    "    yes = 0\n",
    "    no = 0\n",
    "    equals = 0\n",
    "    for i in range(0,len(winner)):\n",
    "        if result[i]==winner[i]:\n",
    "            yes+=1\n",
    "        if result[i]!=winner[i]:\n",
    "            no+=1\n",
    "        if result[i]=='Equal':\n",
    "            equals+=1\n",
    "            \n",
    "    return yes,no,equals"
   ]
  },
  {
   "cell_type": "code",
   "execution_count": 79,
   "id": "00c797d9",
   "metadata": {},
   "outputs": [
    {
     "data": {
      "text/plain": [
       "(12352, 7706, 203)"
      ]
     },
     "execution_count": 79,
     "metadata": {},
     "output_type": "execute_result"
    }
   ],
   "source": [
    "results = actualWinner()\n",
    "results"
   ]
  },
  {
   "cell_type": "code",
   "execution_count": 80,
   "id": "15f95816",
   "metadata": {},
   "outputs": [
    {
     "name": "stdout",
     "output_type": "stream",
     "text": [
      "Percent of Higher Rated being winner =  61%\n",
      "Percent of Lower Rated being winner = 38%\n",
      "Percent of Equal Ratings =  1%\n"
     ]
    }
   ],
   "source": [
    "total= results[0]+results[1]+results[2]\n",
    "print(\"Percent of Higher Rated being winner =  \" + str(round((results[0]/total)*100)) + \"%\")\n",
    "print(\"Percent of Lower Rated being winner = \" + str(round((results[1]/total)*100)) + \"%\")\n",
    "print(\"Percent of Equal Ratings =  \" + str(round((results[2]/total)*100)) + \"%\")\n"
   ]
  },
  {
   "cell_type": "code",
   "execution_count": 93,
   "id": "8f295ef7",
   "metadata": {},
   "outputs": [
    {
     "name": "stdout",
     "output_type": "stream",
     "text": [
      "['g3', '0']\n",
      "['e4', '0']\n",
      "['e4', '0']\n",
      "['e4', '0']\n",
      "['e4', '0']\n",
      "['e4', '0']\n",
      "['e4', '0']\n",
      "['Nf3', '0']\n",
      "['e4', '0']\n",
      "['d4', '0']\n",
      "['e4', '0']\n",
      "['d4', '0']\n",
      "['e4', '0']\n",
      "['e4', '0']\n",
      "['d3', '0']\n",
      "['d4', '0']\n",
      "['e4', '0']\n",
      "['e4', '0']\n"
     ]
    }
   ],
   "source": [
    "#fill missing black values with 0 \n",
    "moves = df['moves']\n",
    "for i in range(0, len(moves)):\n",
    "    nmove = moves[i].split()\n",
    "    if len(nmove)<=1:\n",
    "        nmove.append('0')\n",
    "        print(nmove)"
   ]
  },
  {
   "cell_type": "code",
   "execution_count": 94,
   "id": "b4ec5ffd",
   "metadata": {},
   "outputs": [],
   "source": [
    "\n",
    "def getMoves():\n",
    "    wopening = []\n",
    "    bopening = []\n",
    "    for i in range(len(moves)):\n",
    "        nmove = moves[i].split()\n",
    "        wopening.append(nmove[0])\n",
    "        bopening.append(nmove[1])\n",
    "    wcount = Counter(wopening)\n",
    "    bcount = Counter(bopening)\n",
    "    \n",
    "    return wcount, bcount\n"
   ]
  },
  {
   "cell_type": "code",
   "execution_count": 95,
   "id": "1de87124",
   "metadata": {},
   "outputs": [
    {
     "ename": "IndexError",
     "evalue": "list index out of range",
     "output_type": "error",
     "traceback": [
      "\u001b[1;31m---------------------------------------------------------------------------\u001b[0m",
      "\u001b[1;31mIndexError\u001b[0m                                Traceback (most recent call last)",
      "Input \u001b[1;32mIn [95]\u001b[0m, in \u001b[0;36m<cell line: 1>\u001b[1;34m()\u001b[0m\n\u001b[1;32m----> 1\u001b[0m \u001b[43mgetMoves\u001b[49m\u001b[43m(\u001b[49m\u001b[43m)\u001b[49m\n",
      "Input \u001b[1;32mIn [94]\u001b[0m, in \u001b[0;36mgetMoves\u001b[1;34m()\u001b[0m\n\u001b[0;32m      5\u001b[0m     nmove \u001b[38;5;241m=\u001b[39m moves[i]\u001b[38;5;241m.\u001b[39msplit()\n\u001b[0;32m      6\u001b[0m     wopening\u001b[38;5;241m.\u001b[39mappend(nmove[\u001b[38;5;241m0\u001b[39m])\n\u001b[1;32m----> 7\u001b[0m     bopening\u001b[38;5;241m.\u001b[39mappend(\u001b[43mnmove\u001b[49m\u001b[43m[\u001b[49m\u001b[38;5;241;43m1\u001b[39;49m\u001b[43m]\u001b[49m)\n\u001b[0;32m      8\u001b[0m wcount \u001b[38;5;241m=\u001b[39m Counter(wopening)\n\u001b[0;32m      9\u001b[0m bcount \u001b[38;5;241m=\u001b[39m Counter(bopening)\n",
      "\u001b[1;31mIndexError\u001b[0m: list index out of range"
     ]
    }
   ],
   "source": [
    "getMoves()"
   ]
  },
  {
   "cell_type": "code",
   "execution_count": null,
   "id": "75052494",
   "metadata": {},
   "outputs": [],
   "source": []
  }
 ],
 "metadata": {
  "kernelspec": {
   "display_name": "Python 3 (ipykernel)",
   "language": "python",
   "name": "python3"
  },
  "language_info": {
   "codemirror_mode": {
    "name": "ipython",
    "version": 3
   },
   "file_extension": ".py",
   "mimetype": "text/x-python",
   "name": "python",
   "nbconvert_exporter": "python",
   "pygments_lexer": "ipython3",
   "version": "3.9.12"
  }
 },
 "nbformat": 4,
 "nbformat_minor": 5
}
