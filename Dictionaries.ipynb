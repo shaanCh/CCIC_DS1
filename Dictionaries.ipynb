{
 "cells": [
  {
   "cell_type": "code",
   "execution_count": null,
   "id": "4e7f4437",
   "metadata": {},
   "outputs": [],
   "source": [
    "schedule = {\"Monday\": [\"Gym\", \"School\", \"Hw\", \"Study\"], \n",
    "            \"Tuesday\": [\"CCIC\",\"School\",\"gym\", \"work\",\"Study\"],\n",
    "            \"Wednesday\":[\"Gym\", \"school\", \"work\", \"study\"],\n",
    "           \"Thursday\": [\"CCIC\", \"school\", \"gym\",\"work\", \"study\"],\n",
    "           \"Friday\": [\"Gym\", \"school\", \"Fun\"]}\n",
    "\n",
    "day = input(\"Enter a day: \" )\n",
    "print(schedule[day])"
   ]
  },
  {
   "cell_type": "code",
   "execution_count": 7,
   "id": "18ddf3b7",
   "metadata": {},
   "outputs": [
    {
     "ename": "KeyError",
     "evalue": "'date'",
     "output_type": "error",
     "traceback": [
      "\u001b[1;31m---------------------------------------------------------------------------\u001b[0m",
      "\u001b[1;31mKeyError\u001b[0m                                  Traceback (most recent call last)",
      "Input \u001b[1;32mIn [7]\u001b[0m, in \u001b[0;36m<cell line: 9>\u001b[1;34m()\u001b[0m\n\u001b[0;32m      7\u001b[0m data\u001b[38;5;241m.\u001b[39mupdate({\u001b[38;5;124m\"\u001b[39m\u001b[38;5;124mdate\u001b[39m\u001b[38;5;124m\"\u001b[39m: [\u001b[38;5;124m\"\u001b[39m\u001b[38;5;124m2001-08-08\u001b[39m\u001b[38;5;124m\"\u001b[39m], \u001b[38;5;124m\"\u001b[39m\u001b[38;5;124mDayname\u001b[39m\u001b[38;5;124m\"\u001b[39m: [\u001b[38;5;124m\"\u001b[39m\u001b[38;5;124mWednesday\u001b[39m\u001b[38;5;124m\"\u001b[39m], \u001b[38;5;124m\"\u001b[39m\u001b[38;5;124mred\u001b[39m\u001b[38;5;124m\"\u001b[39m: [\u001b[38;5;241m87\u001b[39m], \u001b[38;5;124m\"\u001b[39m\u001b[38;5;124mgreen\u001b[39m\u001b[38;5;124m\"\u001b[39m: [\u001b[38;5;241m89\u001b[39m], \u001b[38;5;124m\"\u001b[39m\u001b[38;5;124mblue\u001b[39m\u001b[38;5;124m\"\u001b[39m: [\u001b[38;5;241m1\u001b[39m]})\n\u001b[0;32m      8\u001b[0m data\u001b[38;5;241m.\u001b[39mclear()\n\u001b[1;32m----> 9\u001b[0m \u001b[38;5;28mprint\u001b[39m(\u001b[43mdata\u001b[49m\u001b[43m[\u001b[49m\u001b[38;5;124;43m\"\u001b[39;49m\u001b[38;5;124;43mdate\u001b[39;49m\u001b[38;5;124;43m\"\u001b[39;49m\u001b[43m]\u001b[49m)\n",
      "\u001b[1;31mKeyError\u001b[0m: 'date'"
     ]
    }
   ],
   "source": [
    "data = {\"date\" : [\"2001-08-01\", \"2001-08-02\", \"2001-08-03\", \"2001-08-04\", \"2001-08-05\", \"2001-08-06\", \"2001-08-07\", \"2001-08-08\"],\n",
    "       \"Dayname\": [\"Wednesday\", \"Thursday\", \"Friday\", \"Saturday\", \"Sunday\", \"Monday\", \"Tuesday\"],\n",
    "       \"red\": [50, 60, 51, 79, 77, 93, 55],\n",
    "       \"green\": [25, 31, 24, 21, 39, 40, 32],\n",
    "       \"blue\": [71, 53, 50, 69, 57, 66, 63]}\n",
    "\n",
    "data.update({\"date\": [\"2001-08-08\"], \"Dayname\": [\"Wednesday\"], \"red\": [87], \"green\": [89], \"blue\": [1]})\n",
    "data.clear()\n"
   ]
  },
  {
   "cell_type": "code",
   "execution_count": null,
   "id": "9e723edf",
   "metadata": {},
   "outputs": [],
   "source": []
  }
 ],
 "metadata": {
  "kernelspec": {
   "display_name": "Python 3 (ipykernel)",
   "language": "python",
   "name": "python3"
  },
  "language_info": {
   "codemirror_mode": {
    "name": "ipython",
    "version": 3
   },
   "file_extension": ".py",
   "mimetype": "text/x-python",
   "name": "python",
   "nbconvert_exporter": "python",
   "pygments_lexer": "ipython3",
   "version": "3.9.12"
  }
 },
 "nbformat": 4,
 "nbformat_minor": 5
}
