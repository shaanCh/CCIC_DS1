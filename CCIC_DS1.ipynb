{
 "cells": [
  {
   "cell_type": "code",
   "execution_count": 26,
   "id": "cf00afb5",
   "metadata": {
    "scrolled": false
   },
   "outputs": [
    {
     "name": "stdout",
     "output_type": "stream",
     "text": [
      "Business Services & Intro to Health and Wellness\n",
      "9:50 - 10:05\n",
      "Number of students sitting at the cafe: 23\n",
      " \n",
      "CNA & Pharm Tech\n",
      "9:55 - 10:10\n",
      "Number of students sitting at the cafe: 30\n",
      " \n",
      "Behavioral Health Technical and OT/PT\n",
      "10:00 - 10:15\n",
      "Number of students sitting at the cafe: 8\n",
      " \n",
      "Automotive\n",
      "10:20 - 10:35\n",
      "Number of students sitting at the cafe: 2\n",
      " \n",
      "Aviation\n",
      "10:25 - 10:40\n",
      "Number of students sitting at the cafe: 6\n",
      " \n",
      "Advanced Manufacturing\n",
      "10:30 - 10:45\n",
      "Number of students sitting at the cafe: 3\n",
      " \n",
      "Infrastructure Engineering\n",
      "10:50 - 11:05\n",
      "Number of students sitting at the cafe: 9\n",
      " \n",
      "IT & STEAM and Hospitality & Tourism\n",
      "10:55 - 11:10\n",
      "Number of students sitting at the cafe: 23\n",
      " \n"
     ]
    }
   ],
   "source": [
    "my_data = [[\"Business Services & Intro to Health and Wellness\",\"9:50 - 10:05\", 23], \n",
    "           [\"CNA & Pharm Tech\",\"9:55 - 10:10\", 30], \n",
    "           [\"Behavioral Health Technical and OT/PT\",\"10:00 - 10:15\", 8], \n",
    "           [\"Automotive\", \"10:20 - 10:35\", 2], \n",
    "           [\"Aviation\", \"10:25 - 10:40\", 6], \n",
    "           [\"Advanced Manufacturing\",\"10:30 - 10:45\", 3], \n",
    "           [\"Infrastructure Engineering\",\"10:50 - 11:05\", 9], \n",
    "           [\"IT & STEAM and Hospitality & Tourism\",\"10:55 - 11:10\", 23]]\n",
    "\n",
    "for data in range(0,len(my_data)):\n",
    "    print(my_data[data][0])\n",
    "    print(my_data[data][1])\n",
    "    print(\"Number of students sitting at the cafe: \" + str(my_data[data][2]))\n",
    "    print(\" \")\n",
    "   "
   ]
  },
  {
   "cell_type": "code",
   "execution_count": null,
   "id": "7020262b",
   "metadata": {},
   "outputs": [],
   "source": []
  }
 ],
 "metadata": {
  "kernelspec": {
   "display_name": "Python 3 (ipykernel)",
   "language": "python",
   "name": "python3"
  },
  "language_info": {
   "codemirror_mode": {
    "name": "ipython",
    "version": 3
   },
   "file_extension": ".py",
   "mimetype": "text/x-python",
   "name": "python",
   "nbconvert_exporter": "python",
   "pygments_lexer": "ipython3",
   "version": "3.9.12"
  }
 },
 "nbformat": 4,
 "nbformat_minor": 5
}
