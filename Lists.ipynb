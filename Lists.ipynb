{
 "cells": [
  {
   "cell_type": "code",
   "execution_count": 5,
   "id": "15707eec",
   "metadata": {},
   "outputs": [],
   "source": [
    "food = [\"chicken\", \"pizza\", \"sandwiches\"]\n",
    "food[0] = \"eggs\"\n",
    "food[len(food)-1] = \"squash\"\n"
   ]
  },
  {
   "cell_type": "code",
   "execution_count": 10,
   "id": "2e1a1dc5",
   "metadata": {},
   "outputs": [
    {
     "name": "stdout",
     "output_type": "stream",
     "text": [
      "4.2\n"
     ]
    }
   ],
   "source": [
    "student = [\"Ellie\", \"Sofia\", \"Jesus\", \"Jamal\", \"Poppy\"]\n",
    "height = [4.6,4.9,5.0,4.2,5.1]\n",
    "weight = [60, 75, 80, 45, 80]\n",
    "age = [10,11,10,10,11]\n",
    "\n",
    "data = [student, height, weight, age]\n",
    "print(data[1][3])"
   ]
  },
  {
   "cell_type": "code",
   "execution_count": null,
   "id": "6e219bab",
   "metadata": {},
   "outputs": [],
   "source": []
  }
 ],
 "metadata": {
  "kernelspec": {
   "display_name": "Python 3 (ipykernel)",
   "language": "python",
   "name": "python3"
  },
  "language_info": {
   "codemirror_mode": {
    "name": "ipython",
    "version": 3
   },
   "file_extension": ".py",
   "mimetype": "text/x-python",
   "name": "python",
   "nbconvert_exporter": "python",
   "pygments_lexer": "ipython3",
   "version": "3.9.12"
  }
 },
 "nbformat": 4,
 "nbformat_minor": 5
}
