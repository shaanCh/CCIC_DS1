{
 "cells": [
  {
   "cell_type": "code",
   "execution_count": 5,
   "id": "024a8821",
   "metadata": {},
   "outputs": [
    {
     "name": "stdout",
     "output_type": "stream",
     "text": [
      "594.3789583913419\n"
     ]
    }
   ],
   "source": [
    "p = 400\n",
    "apr = .02\n",
    "time = 20\n",
    "\n",
    "final_amount = p*(1+apr)**time\n",
    "print(final_amount)"
   ]
  },
  {
   "cell_type": "code",
   "execution_count": 7,
   "id": "12f3c496",
   "metadata": {},
   "outputs": [
    {
     "name": "stdout",
     "output_type": "stream",
     "text": [
      "120.4\n"
     ]
    }
   ],
   "source": [
    "pay = 140\n",
    "charge = .14\n",
    "\n",
    "final_pay = 140-(pay*charge)\n",
    "print(final_pay)"
   ]
  },
  {
   "cell_type": "code",
   "execution_count": 13,
   "id": "8b7827f3",
   "metadata": {},
   "outputs": [
    {
     "name": "stdout",
     "output_type": "stream",
     "text": [
      "309.1132528181295\n"
     ]
    }
   ],
   "source": [
    "money = 300\n",
    "apr = .06\n",
    "time = 12\n",
    "\n",
    "amount_due = money*(1+(apr/time))**(time/2)\n",
    "print(amount_due)"
   ]
  },
  {
   "cell_type": "code",
   "execution_count": 19,
   "id": "fc9b80fd",
   "metadata": {},
   "outputs": [
    {
     "name": "stdout",
     "output_type": "stream",
     "text": [
      "663.0\n",
      "93.6\n",
      "total fee each year: 756.6\n",
      "3.9863013698630136\n"
     ]
    }
   ],
   "source": [
    "paycheck = 850\n",
    "fee = .03\n",
    "bank_fee = (paycheck*fee)*26\n",
    "print(bank_fee)\n",
    "\n",
    "money_sent = 120\n",
    "fee2 = .1\n",
    "send_fee = (money_sent*fee)*26\n",
    "print(send_fee)\n",
    "\n",
    "total_fee = bank_fee + send_fee\n",
    "print(\"total fee each year: \"+ str(total_fee))\n",
    "\n",
    "income = (paycheck-money_sent)*26\n",
    "print((total_fee/income)*100)\n"
   ]
  },
  {
   "cell_type": "code",
   "execution_count": 25,
   "id": "0b114adf",
   "metadata": {},
   "outputs": [
    {
     "name": "stdout",
     "output_type": "stream",
     "text": [
      "0.125\n",
      "325.0\n"
     ]
    }
   ],
   "source": [
    "final = 450\n",
    "intial = 400\n",
    "\n",
    "rate = (450/400)-1\n",
    "print(rate)\n",
    "\n",
    "apr = (rate*100)*26\n",
    "print(apr)"
   ]
  },
  {
   "cell_type": "code",
   "execution_count": 27,
   "id": "ffa8c0b9",
   "metadata": {},
   "outputs": [
    {
     "name": "stdout",
     "output_type": "stream",
     "text": [
      "1288.05\n"
     ]
    }
   ],
   "source": [
    "money = 1385\n",
    "rate = .07\n",
    "\n",
    "received = money-(money*rate)\n",
    "print(received)"
   ]
  },
  {
   "cell_type": "code",
   "execution_count": null,
   "id": "329f558c",
   "metadata": {},
   "outputs": [],
   "source": []
  }
 ],
 "metadata": {
  "kernelspec": {
   "display_name": "Python 3 (ipykernel)",
   "language": "python",
   "name": "python3"
  },
  "language_info": {
   "codemirror_mode": {
    "name": "ipython",
    "version": 3
   },
   "file_extension": ".py",
   "mimetype": "text/x-python",
   "name": "python",
   "nbconvert_exporter": "python",
   "pygments_lexer": "ipython3",
   "version": "3.9.12"
  }
 },
 "nbformat": 4,
 "nbformat_minor": 5
}
