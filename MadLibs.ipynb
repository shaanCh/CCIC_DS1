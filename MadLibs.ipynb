{
 "cells": [
  {
   "cell_type": "code",
   "execution_count": null,
   "id": "b976523e",
   "metadata": {
    "scrolled": true
   },
   "outputs": [],
   "source": [
    "place = input(\"Enter a place: \")\n",
    "verb1 = input(\"Enter a verb: \")\n",
    "object1 = input(\"Enter a object: \")\n",
    "verb2 = input(\"Enter another verb: \")\n",
    "name1 = input(\"Enter a name: \")\n",
    "feeling = input(\"Enter an emotion: \")\n",
    "thing1 = input(\"Enter anything: \")\n",
    "emotion2 = input(\"Enter another emotion: \")\n",
    "Age = input(\"Enter a number: \")\n",
    "adjective = input(\"Enter an adjective: \")\n",
    "object2 = input(\"Enter another object: \")\n",
    "feeling3 =  input(\"Enter an emotion: \")\n",
    "\n",
    "MadLibs = \"Today we went to \" + place + \". It was a great place to relax, have fun, and \" + verb1 + \". I wish I had brought my \" + object1 + \" because, then I would be able to \" +verb2 + \". My friend, \" + name1 + \", was having so much fun. It made me feel \" +feeling+ \". I saw a \" + thing1 + \"and I was \" +emotion2+ \". Back when I was \" + Age+ \", I had \" +adjective+ \" \" +object2+ \" .It made me feel \" +feeling3+ \". \"\n",
    "print(MadLibs)"
   ]
  }
 ],
 "metadata": {
  "kernelspec": {
   "display_name": "Python 3 (ipykernel)",
   "language": "python",
   "name": "python3"
  },
  "language_info": {
   "codemirror_mode": {
    "name": "ipython",
    "version": 3
   },
   "file_extension": ".py",
   "mimetype": "text/x-python",
   "name": "python",
   "nbconvert_exporter": "python",
   "pygments_lexer": "ipython3",
   "version": "3.9.12"
  }
 },
 "nbformat": 4,
 "nbformat_minor": 5
}
