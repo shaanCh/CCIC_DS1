{
 "cells": [
  {
   "cell_type": "code",
   "execution_count": 6,
   "id": "f70fc189",
   "metadata": {},
   "outputs": [
    {
     "name": "stdout",
     "output_type": "stream",
     "text": [
      "How long is the list: 5\n",
      "What number: 7\n",
      "[7, 14, 21, 28, 35]\n"
     ]
    }
   ],
   "source": [
    "length = int(input(\"How long is the list: \")) \n",
    "number = int(input(\"What number: \"))\n",
    "list1 = []\n",
    "\n",
    "for num in range(1, length+1):\n",
    "    num*=number\n",
    "    list1.append(num)\n",
    "    \n",
    "print(list1)"
   ]
  },
  {
   "cell_type": "code",
   "execution_count": 2,
   "id": "e5d65518",
   "metadata": {},
   "outputs": [
    {
     "name": "stdout",
     "output_type": "stream",
     "text": [
      "Enter a word: hellow\n",
      ".... . .-.. .-.. --- .-- "
     ]
    }
   ],
   "source": [
    "char_to_dots = {\n",
    "  'A': '.-', 'B': '-...', 'C': '-.-.', 'D': '-..', 'E': '.', 'F': '..-.',\n",
    "  'G': '--.', 'H': '....', 'I': '..', 'J': '.---', 'K': '-.-', 'L': '.-..',\n",
    "  'M': '--', 'N': '-.', 'O': '---', 'P': '.--.', 'Q': '--.-', 'R': '.-.',\n",
    "  'S': '...', 'T': '-', 'U': '..-', 'V': '...-', 'W': '.--', 'X': '-..-',\n",
    "  'Y': '-.--', 'Z': '--..', ' ': ' ', '0': '-----',\n",
    "  '1': '.----', '2': '..---', '3': '...--', '4': '....-', '5': '.....',\n",
    "  '6': '-....', '7': '--...', '8': '---..', '9': '----.',\n",
    "  '&': '.-...', \"'\": '.----.', '@': '.--.-.', ')': '-.--.-', '(': '-.--.',\n",
    "  ':': '---...', ',': '--..--', '=': '-...-', '!': '-.-.--', '.': '.-.-.-',\n",
    "  '-': '-....-', '+': '.-.-.', '\"': '.-..-.', '?': '..--..', '/': '-..-.'\n",
    "}\n",
    "\n",
    "phrase = str(input(\"Enter a word: \"))\n",
    "phrase = phrase.upper()\n",
    "\n",
    "for letter in phrase:\n",
    "    print(char_to_dots[letter] + \" \", end=\"\")"
   ]
  },
  {
   "cell_type": "code",
   "execution_count": 36,
   "id": "1b089493",
   "metadata": {
    "scrolled": true
   },
   "outputs": [
    {
     "name": "stdout",
     "output_type": "stream",
     "text": [
      "False\n"
     ]
    }
   ],
   "source": [
    "concert = [[1, 9, 3],\n",
    "          [4, 1, 6],\n",
    "          [7, 8, 9],\n",
    "          [10, 11, 12]]\n",
    "row = 0\n",
    "column = 0\n",
    "result = True\n",
    "\n",
    "while column < len(concert):\n",
    "    if row < len(concert) - 1:\n",
    "        if concert[row][column] < concert[row+1][column]:\n",
    "            row = row + 1\n",
    "    else:\n",
    "        result = False\n",
    "        break\n",
    "    \n",
    "    column+=1\n",
    "    \n",
    "    \n",
    "print(result)\n",
    "    "
   ]
  },
  {
   "cell_type": "code",
   "execution_count": null,
   "id": "4ec2d81f",
   "metadata": {},
   "outputs": [],
   "source": []
  },
  {
   "cell_type": "code",
   "execution_count": null,
   "id": "6e605ae2",
   "metadata": {},
   "outputs": [],
   "source": []
  }
 ],
 "metadata": {
  "kernelspec": {
   "display_name": "Python 3 (ipykernel)",
   "language": "python",
   "name": "python3"
  },
  "language_info": {
   "codemirror_mode": {
    "name": "ipython",
    "version": 3
   },
   "file_extension": ".py",
   "mimetype": "text/x-python",
   "name": "python",
   "nbconvert_exporter": "python",
   "pygments_lexer": "ipython3",
   "version": "3.9.12"
  }
 },
 "nbformat": 4,
 "nbformat_minor": 5
}
